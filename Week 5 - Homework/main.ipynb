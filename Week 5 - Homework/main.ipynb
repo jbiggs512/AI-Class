{
 "cells": [
  {
   "cell_type": "markdown",
   "id": "e716f0cf",
   "metadata": {},
   "source": [
    "Notes:\n",
    "\n",
    "Data found here: https://github.com/zalandoresearch/fashion-mnist/tree/master/data/fashion"
   ]
  },
  {
   "cell_type": "code",
   "execution_count": null,
   "id": "5f0d1d65",
   "metadata": {},
   "outputs": [
    {
     "ename": "SyntaxError",
     "evalue": "invalid syntax (201665868.py, line 3)",
     "output_type": "error",
     "traceback": [
      "  \u001b[36mCell\u001b[39m\u001b[36m \u001b[39m\u001b[32mIn[3]\u001b[39m\u001b[32m, line 3\u001b[39m\n\u001b[31m    \u001b[39m\u001b[31mData found here: https://github.com/zalandoresearch/fashion-mnist/tree/master/data/fashion\u001b[39m\n         ^\n\u001b[31mSyntaxError\u001b[39m\u001b[31m:\u001b[39m invalid syntax\n"
     ]
    }
   ],
   "source": []
  }
 ],
 "metadata": {
  "kernelspec": {
   "display_name": "Python 3",
   "language": "python",
   "name": "python3"
  },
  "language_info": {
   "codemirror_mode": {
    "name": "ipython",
    "version": 3
   },
   "file_extension": ".py",
   "mimetype": "text/x-python",
   "name": "python",
   "nbconvert_exporter": "python",
   "pygments_lexer": "ipython3",
   "version": "3.12.3"
  }
 },
 "nbformat": 4,
 "nbformat_minor": 5
}
